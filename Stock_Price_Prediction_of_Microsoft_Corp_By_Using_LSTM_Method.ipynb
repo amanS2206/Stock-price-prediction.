{
  "nbformat": 4,
  "nbformat_minor": 0,
  "metadata": {
    "colab": {
      "name": "Stock Price Prediction of Microsoft Corp. By Using LSTM Method",
      "provenance": [],
      "authorship_tag": "ABX9TyMR4cwCsBFkntba4q6A9Nsw",
      "include_colab_link": true
    },
    "kernelspec": {
      "name": "python3",
      "display_name": "Python 3"
    }
  },
  "cells": [
    {
      "cell_type": "markdown",
      "metadata": {
        "id": "view-in-github",
        "colab_type": "text"
      },
      "source": [
        "<a href=\"https://colab.research.google.com/github/amanS2206/Stock-price-predition-of-Apple-Inc./blob/main/Stock_Price_Prediction_of_Microsoft_Corp_By_Using_LSTM_Method.ipynb\" target=\"_parent\"><img src=\"https://colab.research.google.com/assets/colab-badge.svg\" alt=\"Open In Colab\"/></a>"
      ]
    },
    {
      "cell_type": "code",
      "metadata": {
        "id": "QryzAt7ekx6p"
      },
      "source": [
        "import math\n",
        "import pandas_datareader as web\n",
        "import numpy as np \n",
        "import pandas as pd\n",
        "from sklearn.preprocessing import MinMaxScaler\n",
        "from keras.models import Sequential\n",
        "from keras.layers import Dense, LSTM\n",
        "import matplotlib.pyplot as plt\n",
        "plt.style.use('fivethirtyeight')"
      ],
      "execution_count": 3,
      "outputs": []
    },
    {
      "cell_type": "code",
      "metadata": {
        "id": "Zbwy7MYAl5B0",
        "outputId": "cf1b532b-e86e-4911-ae85-f5feae187ac6",
        "colab": {
          "base_uri": "https://localhost:8080/",
          "height": 450
        }
      },
      "source": [
        "# get the data\n",
        "df = web.DataReader('MSFT', data_source='yahoo', start='2012-01-01', end='2019-12-17')\n",
        "# show the data\n",
        "df"
      ],
      "execution_count": 4,
      "outputs": [
        {
          "output_type": "execute_result",
          "data": {
            "text/html": [
              "<div>\n",
              "<style scoped>\n",
              "    .dataframe tbody tr th:only-of-type {\n",
              "        vertical-align: middle;\n",
              "    }\n",
              "\n",
              "    .dataframe tbody tr th {\n",
              "        vertical-align: top;\n",
              "    }\n",
              "\n",
              "    .dataframe thead th {\n",
              "        text-align: right;\n",
              "    }\n",
              "</style>\n",
              "<table border=\"1\" class=\"dataframe\">\n",
              "  <thead>\n",
              "    <tr style=\"text-align: right;\">\n",
              "      <th></th>\n",
              "      <th>High</th>\n",
              "      <th>Low</th>\n",
              "      <th>Open</th>\n",
              "      <th>Close</th>\n",
              "      <th>Volume</th>\n",
              "      <th>Adj Close</th>\n",
              "    </tr>\n",
              "    <tr>\n",
              "      <th>Date</th>\n",
              "      <th></th>\n",
              "      <th></th>\n",
              "      <th></th>\n",
              "      <th></th>\n",
              "      <th></th>\n",
              "      <th></th>\n",
              "    </tr>\n",
              "  </thead>\n",
              "  <tbody>\n",
              "    <tr>\n",
              "      <th>2012-01-03</th>\n",
              "      <td>26.959999</td>\n",
              "      <td>26.389999</td>\n",
              "      <td>26.549999</td>\n",
              "      <td>26.770000</td>\n",
              "      <td>64731500.0</td>\n",
              "      <td>21.906679</td>\n",
              "    </tr>\n",
              "    <tr>\n",
              "      <th>2012-01-04</th>\n",
              "      <td>27.469999</td>\n",
              "      <td>26.780001</td>\n",
              "      <td>26.820000</td>\n",
              "      <td>27.400000</td>\n",
              "      <td>80516100.0</td>\n",
              "      <td>22.422224</td>\n",
              "    </tr>\n",
              "    <tr>\n",
              "      <th>2012-01-05</th>\n",
              "      <td>27.730000</td>\n",
              "      <td>27.290001</td>\n",
              "      <td>27.379999</td>\n",
              "      <td>27.680000</td>\n",
              "      <td>56081400.0</td>\n",
              "      <td>22.651352</td>\n",
              "    </tr>\n",
              "    <tr>\n",
              "      <th>2012-01-06</th>\n",
              "      <td>28.190001</td>\n",
              "      <td>27.530001</td>\n",
              "      <td>27.530001</td>\n",
              "      <td>28.110001</td>\n",
              "      <td>99455500.0</td>\n",
              "      <td>23.003237</td>\n",
              "    </tr>\n",
              "    <tr>\n",
              "      <th>2012-01-09</th>\n",
              "      <td>28.100000</td>\n",
              "      <td>27.719999</td>\n",
              "      <td>28.049999</td>\n",
              "      <td>27.740000</td>\n",
              "      <td>59706800.0</td>\n",
              "      <td>22.700455</td>\n",
              "    </tr>\n",
              "    <tr>\n",
              "      <th>...</th>\n",
              "      <td>...</td>\n",
              "      <td>...</td>\n",
              "      <td>...</td>\n",
              "      <td>...</td>\n",
              "      <td>...</td>\n",
              "      <td>...</td>\n",
              "    </tr>\n",
              "    <tr>\n",
              "      <th>2019-12-11</th>\n",
              "      <td>151.869995</td>\n",
              "      <td>150.330002</td>\n",
              "      <td>151.539993</td>\n",
              "      <td>151.699997</td>\n",
              "      <td>18856600.0</td>\n",
              "      <td>150.502777</td>\n",
              "    </tr>\n",
              "    <tr>\n",
              "      <th>2019-12-12</th>\n",
              "      <td>153.440002</td>\n",
              "      <td>151.020004</td>\n",
              "      <td>151.649994</td>\n",
              "      <td>153.240005</td>\n",
              "      <td>24612100.0</td>\n",
              "      <td>152.030640</td>\n",
              "    </tr>\n",
              "    <tr>\n",
              "      <th>2019-12-13</th>\n",
              "      <td>154.889999</td>\n",
              "      <td>152.830002</td>\n",
              "      <td>153.000000</td>\n",
              "      <td>154.529999</td>\n",
              "      <td>23845400.0</td>\n",
              "      <td>153.310455</td>\n",
              "    </tr>\n",
              "    <tr>\n",
              "      <th>2019-12-16</th>\n",
              "      <td>155.899994</td>\n",
              "      <td>154.820007</td>\n",
              "      <td>155.110001</td>\n",
              "      <td>155.529999</td>\n",
              "      <td>24144200.0</td>\n",
              "      <td>154.302551</td>\n",
              "    </tr>\n",
              "    <tr>\n",
              "      <th>2019-12-17</th>\n",
              "      <td>155.710007</td>\n",
              "      <td>154.449997</td>\n",
              "      <td>155.449997</td>\n",
              "      <td>154.690002</td>\n",
              "      <td>25425600.0</td>\n",
              "      <td>153.469193</td>\n",
              "    </tr>\n",
              "  </tbody>\n",
              "</table>\n",
              "<p>2003 rows × 6 columns</p>\n",
              "</div>"
            ],
            "text/plain": [
              "                  High         Low  ...      Volume   Adj Close\n",
              "Date                                ...                        \n",
              "2012-01-03   26.959999   26.389999  ...  64731500.0   21.906679\n",
              "2012-01-04   27.469999   26.780001  ...  80516100.0   22.422224\n",
              "2012-01-05   27.730000   27.290001  ...  56081400.0   22.651352\n",
              "2012-01-06   28.190001   27.530001  ...  99455500.0   23.003237\n",
              "2012-01-09   28.100000   27.719999  ...  59706800.0   22.700455\n",
              "...                ...         ...  ...         ...         ...\n",
              "2019-12-11  151.869995  150.330002  ...  18856600.0  150.502777\n",
              "2019-12-12  153.440002  151.020004  ...  24612100.0  152.030640\n",
              "2019-12-13  154.889999  152.830002  ...  23845400.0  153.310455\n",
              "2019-12-16  155.899994  154.820007  ...  24144200.0  154.302551\n",
              "2019-12-17  155.710007  154.449997  ...  25425600.0  153.469193\n",
              "\n",
              "[2003 rows x 6 columns]"
            ]
          },
          "metadata": {
            "tags": []
          },
          "execution_count": 4
        }
      ]
    },
    {
      "cell_type": "code",
      "metadata": {
        "id": "t-hAo-AwmZzJ",
        "outputId": "be24b3cc-2bf0-43ef-c6b7-db8671f59bfd",
        "colab": {
          "base_uri": "https://localhost:8080/",
          "height": 34
        }
      },
      "source": [
        "# get the number of columns and rows\n",
        "df.shape"
      ],
      "execution_count": 5,
      "outputs": [
        {
          "output_type": "execute_result",
          "data": {
            "text/plain": [
              "(2003, 6)"
            ]
          },
          "metadata": {
            "tags": []
          },
          "execution_count": 5
        }
      ]
    },
    {
      "cell_type": "code",
      "metadata": {
        "id": "U86OifLWmjFE",
        "outputId": "eee77e91-6ccd-4f49-c8b0-4c5b10a9bbdb",
        "colab": {
          "base_uri": "https://localhost:8080/",
          "height": 558
        }
      },
      "source": [
        "# visualize the  closing data\n",
        "plt.figure(figsize=(12,8))\n",
        "plt.title('Closing Price History')\n",
        "plt.plot(df['Close'])\n",
        "plt.xlabel('Date' ,fontsize=18)\n",
        "plt.ylabel('Closing price in USD ($)', fontsize = 18)\n",
        "plt.show()"
      ],
      "execution_count": 6,
      "outputs": [
        {
          "output_type": "display_data",
          "data": {
            "image/png": "[encoded data removed]",
            "text/plain": [
              "<Figure size 864x576 with 1 Axes>"
            ]
          },
          "metadata": {
            "tags": []
          }
        }
      ]
    },
    {
      "cell_type": "code",
      "metadata": {
        "id": "SyxUgfn5nPY-",
        "outputId": "7b9b001f-21f8-4d28-e3fc-91b3a40ac00b",
        "colab": {
          "base_uri": "https://localhost:8080/",
          "height": 34
        }
      },
      "source": [
        "# create the data with only close price column\n",
        "data = df.filter(['Close'])\n",
        "# convert the dataframe in to numpy array\n",
        "dataset = data.values\n",
        "\n",
        "# get the number of rows to train the model\n",
        "training_data_len = math.ceil(len(dataset)*0.8)\n",
        "training_data_len"
      ],
      "execution_count": 7,
      "outputs": [
        {
          "output_type": "execute_result",
          "data": {
            "text/plain": [
              "1603"
            ]
          },
          "metadata": {
            "tags": []
          },
          "execution_count": 7
        }
      ]
    },
    {
      "cell_type": "code",
      "metadata": {
        "id": "Ag96Q8dAoN0q",
        "outputId": "eee058a4-4f3b-4602-a4e1-5ff187905fee",
        "colab": {
          "base_uri": "https://localhost:8080/",
          "height": 136
        }
      },
      "source": [
        "# scale the data\n",
        "scaler = MinMaxScaler(feature_range=(0,1))\n",
        "scaled_data = scaler.fit_transform(dataset)\n",
        "scaled_data"
      ],
      "execution_count": 8,
      "outputs": [
        {
          "output_type": "execute_result",
          "data": {
            "text/plain": [
              "array([[0.00309693],\n",
              "       [0.0079746 ],\n",
              "       [0.01014245],\n",
              "       ...,\n",
              "       [0.99225766],\n",
              "       [1.        ],\n",
              "       [0.99349647]])"
            ]
          },
          "metadata": {
            "tags": []
          },
          "execution_count": 8
        }
      ]
    },
    {
      "cell_type": "code",
      "metadata": {
        "id": "9PP1efqOpjbo"
      },
      "source": [
        "# create the scaled training dataset \n",
        "train_data = scaled_data[0 : training_data_len, :]\n",
        "# split the data into x_train and y_train subset\n",
        "x_train = []\n",
        "y_train = []\n",
        "for i in range(60, len(train_data)):\n",
        "  x_train.append(train_data[i-60:i, 0])\n",
        "  y_train.append(train_data[i,0])\n"
      ],
      "execution_count": 9,
      "outputs": []
    },
    {
      "cell_type": "code",
      "metadata": {
        "id": "xVzVmm2Jqu7W"
      },
      "source": [
        "# convert the x_train and y_train in to numpy array\n",
        "x_train , y_train = np.array(x_train) , np.array(y_train)"
      ],
      "execution_count": 10,
      "outputs": []
    },
    {
      "cell_type": "code",
      "metadata": {
        "id": "fRiXKH8cxJh7",
        "outputId": "c735799c-a8d4-4371-f19c-a35514fdf5f7",
        "colab": {
          "base_uri": "https://localhost:8080/",
          "height": 34
        }
      },
      "source": [
        "# reshape the array\n",
        "x_train = np.reshape(x_train, (x_train.shape[0] , x_train.shape[1] , 1))\n",
        "x_train.shape"
      ],
      "execution_count": 11,
      "outputs": [
        {
          "output_type": "execute_result",
          "data": {
            "text/plain": [
              "(1543, 60, 1)"
            ]
          },
          "metadata": {
            "tags": []
          },
          "execution_count": 11
        }
      ]
    },
    {
      "cell_type": "code",
      "metadata": {
        "id": "QgLmdSGlxa3P"
      },
      "source": [
        "# build the LSTM Model \n",
        "\n",
        "model = Sequential()\n",
        "model.add(LSTM(50, return_sequences=True, input_shape=(x_train.shape[1],1)))\n",
        "model.add(LSTM(50,return_sequences=False))\n",
        "model.add(Dense(25))\n",
        "model.add(Dense(1))"
      ],
      "execution_count": 12,
      "outputs": []
    },
    {
      "cell_type": "code",
      "metadata": {
        "id": "xl9shPBZyBVW"
      },
      "source": [
        "# compile the model\n",
        "model.compile(optimizer='adam' , loss='mean_squared_error')"
      ],
      "execution_count": 13,
      "outputs": []
    },
    {
      "cell_type": "code",
      "metadata": {
        "id": "KiUohjp8yNRX",
        "outputId": "e8b97069-5653-4ee7-bf29-beb575b23200",
        "colab": {
          "base_uri": "https://localhost:8080/",
          "height": 51
        }
      },
      "source": [
        "# train the data\n",
        "\n",
        "model.fit(x_train, y_train, batch_size=1, epochs=1)"
      ],
      "execution_count": 14,
      "outputs": [
        {
          "output_type": "stream",
          "text": [
            "1543/1543 [==============================] - 33s 22ms/step - loss: 4.6134e-04\n"
          ],
          "name": "stdout"
        },
        {
          "output_type": "execute_result",
          "data": {
            "text/plain": [
              "<tensorflow.python.keras.callbacks.History at 0x7ff747dcbe10>"
            ]
          },
          "metadata": {
            "tags": []
          },
          "execution_count": 14
        }
      ]
    },
    {
      "cell_type": "code",
      "metadata": {
        "id": "0XeEOQ2xyZuw"
      },
      "source": [
        "# create the testing data\n",
        "# create the new array containing scaled values from  1543 to 2003\n",
        "test_data = scaled_data[training_data_len-60 : , :]\n",
        "# create the dataset x_train and y_train\n",
        "x_test = []\n",
        "y_test = dataset[training_data_len: , :]\n",
        "for i in range(60 , len(test_data)):\n",
        "  x_test.append(test_data[i-60:i,0])"
      ],
      "execution_count": 15,
      "outputs": []
    },
    {
      "cell_type": "code",
      "metadata": {
        "id": "CISlz_Xhzs0p"
      },
      "source": [
        "# convert the data into numpy array\n",
        "x_test = np.array(x_test)"
      ],
      "execution_count": 16,
      "outputs": []
    },
    {
      "cell_type": "code",
      "metadata": {
        "id": "hfDo4ido0EQH",
        "outputId": "e8825dc5-d086-4d37-87cc-e0e36b4ffe90",
        "colab": {
          "base_uri": "https://localhost:8080/",
          "height": 34
        }
      },
      "source": [
        "# reshape the data\n",
        "x_test = np.reshape(x_test, (x_test.shape[0] , x_test.shape[1], 1))\n",
        "x_test.shape"
      ],
      "execution_count": 17,
      "outputs": [
        {
          "output_type": "execute_result",
          "data": {
            "text/plain": [
              "(400, 60, 1)"
            ]
          },
          "metadata": {
            "tags": []
          },
          "execution_count": 17
        }
      ]
    },
    {
      "cell_type": "code",
      "metadata": {
        "id": "P32N0E8w0SIb"
      },
      "source": [
        "# get the models predicted price and values\n",
        "predictions = model.predict(x_test)\n",
        "predictions = scaler.inverse_transform(predictions)"
      ],
      "execution_count": 18,
      "outputs": []
    },
    {
      "cell_type": "code",
      "metadata": {
        "id": "M27QBcSS0llh"
      },
      "source": [
        "# get the root mean squared error (RMSE)\n",
        "rmse = np.sqrt(np.mean(predictions - y_test)**2)"
      ],
      "execution_count": 19,
      "outputs": []
    },
    {
      "cell_type": "code",
      "metadata": {
        "id": "w3Cnuy9_011V",
        "outputId": "100ebae1-6118-4eca-e33e-9bd90e6377d0",
        "colab": {
          "base_uri": "https://localhost:8080/",
          "height": 34
        }
      },
      "source": [
        "rmse"
      ],
      "execution_count": 20,
      "outputs": [
        {
          "output_type": "execute_result",
          "data": {
            "text/plain": [
              "2.5263278388977053"
            ]
          },
          "metadata": {
            "tags": []
          },
          "execution_count": 20
        }
      ]
    },
    {
      "cell_type": "code",
      "metadata": {
        "id": "Gg1tooqP020h",
        "outputId": "10b82c75-46d1-48e4-aabc-3e81a6444632",
        "colab": {
          "base_uri": "https://localhost:8080/",
          "height": 660
        }
      },
      "source": [
        "# plot the data\n",
        "train = data[:training_data_len]\n",
        "valid = data[training_data_len:]\n",
        "valid['Predictions'] = predictions\n",
        "# visualize the model\n",
        "plt.figure(figsize=(16,8))\n",
        "plt.title('Model')\n",
        "plt.xlabel('Date' , fontsize=18)\n",
        "plt.ylabel('Closing Price In USD ($) ', fontsize=18)\n",
        "plt.plot(train['Close'])\n",
        "plt.plot(valid[['Close', 'Predictions']])\n",
        "plt.legend(['Train', 'Val', 'Predicted'], loc='lower right')\n",
        "plt.show()"
      ],
      "execution_count": 22,
      "outputs": [
        {
          "output_type": "stream",
          "text": [
            "/usr/local/lib/python3.6/dist-packages/ipykernel_launcher.py:4: SettingWithCopyWarning: \n",
            "A value is trying to be set on a copy of a slice from a DataFrame.\n",
            "Try using .loc[row_indexer,col_indexer] = value instead\n",
            "\n",
            "See the caveats in the documentation: https://pandas.pydata.org/pandas-docs/stable/user_guide/indexing.html#returning-a-view-versus-a-copy\n",
            "  after removing the cwd from sys.path.\n"
          ],
          "name": "stderr"
        },
        {
          "output_type": "display_data",
          "data": {
            "image/png": "[encoded data removed]",
            "text/plain": [
              "<Figure size 1152x576 with 1 Axes>"
            ]
          },
          "metadata": {
            "tags": []
          }
        }
      ]
    },
    {
      "cell_type": "code",
      "metadata": {
        "id": "icZGlo1hYudV",
        "outputId": "9138601e-7c6b-42b9-ef56-5ab5f54e0b32",
        "colab": {
          "base_uri": "https://localhost:8080/",
          "height": 450
        }
      },
      "source": [
        "valid"
      ],
      "execution_count": 23,
      "outputs": [
        {
          "output_type": "execute_result",
          "data": {
            "text/html": [
              "<div>\n",
              "<style scoped>\n",
              "    .dataframe tbody tr th:only-of-type {\n",
              "        vertical-align: middle;\n",
              "    }\n",
              "\n",
              "    .dataframe tbody tr th {\n",
              "        vertical-align: top;\n",
              "    }\n",
              "\n",
              "    .dataframe thead th {\n",
              "        text-align: right;\n",
              "    }\n",
              "</style>\n",
              "<table border=\"1\" class=\"dataframe\">\n",
              "  <thead>\n",
              "    <tr style=\"text-align: right;\">\n",
              "      <th></th>\n",
              "      <th>Close</th>\n",
              "      <th>Predictions</th>\n",
              "    </tr>\n",
              "    <tr>\n",
              "      <th>Date</th>\n",
              "      <th></th>\n",
              "      <th></th>\n",
              "    </tr>\n",
              "  </thead>\n",
              "  <tbody>\n",
              "    <tr>\n",
              "      <th>2018-05-17</th>\n",
              "      <td>96.180000</td>\n",
              "      <td>99.441406</td>\n",
              "    </tr>\n",
              "    <tr>\n",
              "      <th>2018-05-18</th>\n",
              "      <td>96.360001</td>\n",
              "      <td>99.488258</td>\n",
              "    </tr>\n",
              "    <tr>\n",
              "      <th>2018-05-21</th>\n",
              "      <td>97.599998</td>\n",
              "      <td>99.466049</td>\n",
              "    </tr>\n",
              "    <tr>\n",
              "      <th>2018-05-22</th>\n",
              "      <td>97.500000</td>\n",
              "      <td>99.531036</td>\n",
              "    </tr>\n",
              "    <tr>\n",
              "      <th>2018-05-23</th>\n",
              "      <td>98.660004</td>\n",
              "      <td>99.620941</td>\n",
              "    </tr>\n",
              "    <tr>\n",
              "      <th>...</th>\n",
              "      <td>...</td>\n",
              "      <td>...</td>\n",
              "    </tr>\n",
              "    <tr>\n",
              "      <th>2019-12-11</th>\n",
              "      <td>151.699997</td>\n",
              "      <td>153.911072</td>\n",
              "    </tr>\n",
              "    <tr>\n",
              "      <th>2019-12-12</th>\n",
              "      <td>153.240005</td>\n",
              "      <td>154.064133</td>\n",
              "    </tr>\n",
              "    <tr>\n",
              "      <th>2019-12-13</th>\n",
              "      <td>154.529999</td>\n",
              "      <td>154.363525</td>\n",
              "    </tr>\n",
              "    <tr>\n",
              "      <th>2019-12-16</th>\n",
              "      <td>155.529999</td>\n",
              "      <td>154.819946</td>\n",
              "    </tr>\n",
              "    <tr>\n",
              "      <th>2019-12-17</th>\n",
              "      <td>154.690002</td>\n",
              "      <td>155.399109</td>\n",
              "    </tr>\n",
              "  </tbody>\n",
              "</table>\n",
              "<p>400 rows × 2 columns</p>\n",
              "</div>"
            ],
            "text/plain": [
              "                 Close  Predictions\n",
              "Date                               \n",
              "2018-05-17   96.180000    99.441406\n",
              "2018-05-18   96.360001    99.488258\n",
              "2018-05-21   97.599998    99.466049\n",
              "2018-05-22   97.500000    99.531036\n",
              "2018-05-23   98.660004    99.620941\n",
              "...                ...          ...\n",
              "2019-12-11  151.699997   153.911072\n",
              "2019-12-12  153.240005   154.064133\n",
              "2019-12-13  154.529999   154.363525\n",
              "2019-12-16  155.529999   154.819946\n",
              "2019-12-17  154.690002   155.399109\n",
              "\n",
              "[400 rows x 2 columns]"
            ]
          },
          "metadata": {
            "tags": []
          },
          "execution_count": 23
        }
      ]
    },
    {
      "cell_type": "code",
      "metadata": {
        "id": "_wJ6Tz-5Zgvf",
        "outputId": "5b3212ba-51b5-4595-fcb2-0a64ee46ad40",
        "colab": {
          "base_uri": "https://localhost:8080/",
          "height": 34
        }
      },
      "source": [
        "# get the quote \n",
        "microsoft_quote = web.DataReader('MSFT', data_source='yahoo', start='2012-01-01' ,end='2012-12-17')\n",
        "# create the dataframe\n",
        "new_df = microsoft_quote.filter(['Close'])\n",
        "# get the last 60 days price and convert in to the array\n",
        "last_60_days = new_df[-60:].values\n",
        "# scale the data\n",
        "last_60_days_scaled = scaler.transform(last_60_days)\n",
        "# create the empy list\n",
        "x_test = []\n",
        "# get the last 60 days data\n",
        "x_test.append(last_60_days_scaled)\n",
        "# convert the scaled data into the numpy array\n",
        "x_test = np.array(x_test)\n",
        "# reshape the data\n",
        "x_test = np.reshape(x_test, (x_test.shape[0] , x_test.shape[1], 1))\n",
        "# get the predicted price\n",
        "pred_price = model.predict(x_test)\n",
        "# undo the scalling\n",
        "pred_price = scaler.inverse_transform(pred_price)\n",
        "print(pred_price)\n"
      ],
      "execution_count": 25,
      "outputs": [
        {
          "output_type": "stream",
          "text": [
            "[[25.379917]]\n"
          ],
          "name": "stdout"
        }
      ]
    },
    {
      "cell_type": "code",
      "metadata": {
        "id": "ECwYb18KhzGj",
        "outputId": "31f8d299-72ef-46ac-ac2f-124ba1d8cd01",
        "colab": {
          "base_uri": "https://localhost:8080/",
          "height": 68
        }
      },
      "source": [
        "microsoft_quote2 = web.DataReader('MSFT', data_source='yahoo', start='2012-12-18', end='2012-12-18')\n",
        "print(microsoft_quote2['Close'])"
      ],
      "execution_count": 26,
      "outputs": [
        {
          "output_type": "stream",
          "text": [
            "Date\n",
            "2012-12-18    27.559999\n",
            "Name: Close, dtype: float64\n"
          ],
          "name": "stdout"
        }
      ]
    },
    {
      "cell_type": "code",
      "metadata": {
        "id": "Nj7EQqEIiRYr"
      },
      "source": [
        ""
      ],
      "execution_count": null,
      "outputs": []
    }
  ]
}