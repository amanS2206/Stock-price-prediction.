{
  "nbformat": 4,
  "nbformat_minor": 0,
  "metadata": {
    "colab": {
      "name": "Stock Market Prediction of Apple Inc. using LSTM method",
      "provenance": [],
      "collapsed_sections": [],
      "authorship_tag": "ABX9TyOfWhxNtN2klPQJq5BPui3q",
      "include_colab_link": true
    },
    "kernelspec": {
      "name": "python3",
      "display_name": "Python 3"
    }
  },
  "cells": [
    {
      "cell_type": "markdown",
      "metadata": {
        "id": "view-in-github",
        "colab_type": "text"
      },
      "source": [
        "<a href=\"https://colab.research.google.com/github/amanS2206/Stock-price-predition-of-Apple-Inc./blob/main/Stock_Market_Prediction_of_Apple_Inc_using_LSTM_method.ipynb\" target=\"_parent\"><img src=\"https://colab.research.google.com/assets/colab-badge.svg\" alt=\"Open In Colab\"/></a>"
      ]
    },
    {
      "cell_type": "code",
      "metadata": {
        "id": "p5E4azFDRBBk"
      },
      "source": [
        "import math\n",
        "import pandas_datareader as web\n",
        "import numpy as np \n",
        "import pandas as pd\n",
        "from sklearn.preprocessing import MinMaxScaler\n",
        "from keras.models import Sequential\n",
        "from keras.layers import Dense, LSTM\n",
        "import matplotlib.pyplot as plt\n",
        "plt.style.use('fivethirtyeight')"
      ],
      "execution_count": 2,
      "outputs": []
    },
    {
      "cell_type": "code",
      "metadata": {
        "id": "4mu-GngvRndc",
        "outputId": "6031912e-ae5b-4b6e-af11-75f56704694e",
        "colab": {
          "base_uri": "https://localhost:8080/",
          "height": 450
        }
      },
      "source": [
        "# get the data\n",
        "df = web.DataReader('AAPL', data_source = 'yahoo' , start='2012-01-01', end='2019-12-17')\n",
        "# show the data\n",
        "df"
      ],
      "execution_count": 4,
      "outputs": [
        {
          "output_type": "execute_result",
          "data": {
            "text/html": [
              "<div>\n",
              "<style scoped>\n",
              "    .dataframe tbody tr th:only-of-type {\n",
              "        vertical-align: middle;\n",
              "    }\n",
              "\n",
              "    .dataframe tbody tr th {\n",
              "        vertical-align: top;\n",
              "    }\n",
              "\n",
              "    .dataframe thead th {\n",
              "        text-align: right;\n",
              "    }\n",
              "</style>\n",
              "<table border=\"1\" class=\"dataframe\">\n",
              "  <thead>\n",
              "    <tr style=\"text-align: right;\">\n",
              "      <th></th>\n",
              "      <th>High</th>\n",
              "      <th>Low</th>\n",
              "      <th>Open</th>\n",
              "      <th>Close</th>\n",
              "      <th>Volume</th>\n",
              "      <th>Adj Close</th>\n",
              "    </tr>\n",
              "    <tr>\n",
              "      <th>Date</th>\n",
              "      <th></th>\n",
              "      <th></th>\n",
              "      <th></th>\n",
              "      <th></th>\n",
              "      <th></th>\n",
              "      <th></th>\n",
              "    </tr>\n",
              "  </thead>\n",
              "  <tbody>\n",
              "    <tr>\n",
              "      <th>2012-01-03</th>\n",
              "      <td>14.732142</td>\n",
              "      <td>14.607142</td>\n",
              "      <td>14.621428</td>\n",
              "      <td>14.686786</td>\n",
              "      <td>302220800.0</td>\n",
              "      <td>12.691425</td>\n",
              "    </tr>\n",
              "    <tr>\n",
              "      <th>2012-01-04</th>\n",
              "      <td>14.810000</td>\n",
              "      <td>14.617143</td>\n",
              "      <td>14.642858</td>\n",
              "      <td>14.765715</td>\n",
              "      <td>260022000.0</td>\n",
              "      <td>12.759631</td>\n",
              "    </tr>\n",
              "    <tr>\n",
              "      <th>2012-01-05</th>\n",
              "      <td>14.948215</td>\n",
              "      <td>14.738214</td>\n",
              "      <td>14.819643</td>\n",
              "      <td>14.929643</td>\n",
              "      <td>271269600.0</td>\n",
              "      <td>12.901293</td>\n",
              "    </tr>\n",
              "    <tr>\n",
              "      <th>2012-01-06</th>\n",
              "      <td>15.098214</td>\n",
              "      <td>14.972143</td>\n",
              "      <td>14.991786</td>\n",
              "      <td>15.085714</td>\n",
              "      <td>318292800.0</td>\n",
              "      <td>13.036158</td>\n",
              "    </tr>\n",
              "    <tr>\n",
              "      <th>2012-01-09</th>\n",
              "      <td>15.276786</td>\n",
              "      <td>15.048214</td>\n",
              "      <td>15.196428</td>\n",
              "      <td>15.061786</td>\n",
              "      <td>394024400.0</td>\n",
              "      <td>13.015480</td>\n",
              "    </tr>\n",
              "    <tr>\n",
              "      <th>...</th>\n",
              "      <td>...</td>\n",
              "      <td>...</td>\n",
              "      <td>...</td>\n",
              "      <td>...</td>\n",
              "      <td>...</td>\n",
              "      <td>...</td>\n",
              "    </tr>\n",
              "    <tr>\n",
              "      <th>2019-12-11</th>\n",
              "      <td>67.775002</td>\n",
              "      <td>67.125000</td>\n",
              "      <td>67.202499</td>\n",
              "      <td>67.692497</td>\n",
              "      <td>78756800.0</td>\n",
              "      <td>67.228699</td>\n",
              "    </tr>\n",
              "    <tr>\n",
              "      <th>2019-12-12</th>\n",
              "      <td>68.139999</td>\n",
              "      <td>66.830002</td>\n",
              "      <td>66.945000</td>\n",
              "      <td>67.864998</td>\n",
              "      <td>137310400.0</td>\n",
              "      <td>67.400017</td>\n",
              "    </tr>\n",
              "    <tr>\n",
              "      <th>2019-12-13</th>\n",
              "      <td>68.824997</td>\n",
              "      <td>67.732498</td>\n",
              "      <td>67.864998</td>\n",
              "      <td>68.787498</td>\n",
              "      <td>133587600.0</td>\n",
              "      <td>68.316193</td>\n",
              "    </tr>\n",
              "    <tr>\n",
              "      <th>2019-12-16</th>\n",
              "      <td>70.197502</td>\n",
              "      <td>69.245003</td>\n",
              "      <td>69.250000</td>\n",
              "      <td>69.964996</td>\n",
              "      <td>128186000.0</td>\n",
              "      <td>69.485619</td>\n",
              "    </tr>\n",
              "    <tr>\n",
              "      <th>2019-12-17</th>\n",
              "      <td>70.442497</td>\n",
              "      <td>69.699997</td>\n",
              "      <td>69.892502</td>\n",
              "      <td>70.102501</td>\n",
              "      <td>114158400.0</td>\n",
              "      <td>69.622192</td>\n",
              "    </tr>\n",
              "  </tbody>\n",
              "</table>\n",
              "<p>2003 rows × 6 columns</p>\n",
              "</div>"
            ],
            "text/plain": [
              "                 High        Low       Open      Close       Volume  Adj Close\n",
              "Date                                                                          \n",
              "2012-01-03  14.732142  14.607142  14.621428  14.686786  302220800.0  12.691425\n",
              "2012-01-04  14.810000  14.617143  14.642858  14.765715  260022000.0  12.759631\n",
              "2012-01-05  14.948215  14.738214  14.819643  14.929643  271269600.0  12.901293\n",
              "2012-01-06  15.098214  14.972143  14.991786  15.085714  318292800.0  13.036158\n",
              "2012-01-09  15.276786  15.048214  15.196428  15.061786  394024400.0  13.015480\n",
              "...               ...        ...        ...        ...          ...        ...\n",
              "2019-12-11  67.775002  67.125000  67.202499  67.692497   78756800.0  67.228699\n",
              "2019-12-12  68.139999  66.830002  66.945000  67.864998  137310400.0  67.400017\n",
              "2019-12-13  68.824997  67.732498  67.864998  68.787498  133587600.0  68.316193\n",
              "2019-12-16  70.197502  69.245003  69.250000  69.964996  128186000.0  69.485619\n",
              "2019-12-17  70.442497  69.699997  69.892502  70.102501  114158400.0  69.622192\n",
              "\n",
              "[2003 rows x 6 columns]"
            ]
          },
          "metadata": {
            "tags": []
          },
          "execution_count": 4
        }
      ]
    },
    {
      "cell_type": "code",
      "metadata": {
        "id": "rhnLYPwxSZ3D",
        "outputId": "2a5951ba-399f-4684-8593-b6cac7ce3f55",
        "colab": {
          "base_uri": "https://localhost:8080/",
          "height": 34
        }
      },
      "source": [
        "# get the number of rows and columns\n",
        "df.shape"
      ],
      "execution_count": 6,
      "outputs": [
        {
          "output_type": "execute_result",
          "data": {
            "text/plain": [
              "(2003, 6)"
            ]
          },
          "metadata": {
            "tags": []
          },
          "execution_count": 6
        }
      ]
    },
    {
      "cell_type": "code",
      "metadata": {
        "id": "YJysVSSDS-3d",
        "outputId": "ee546e13-cef2-43c8-ccc8-970ba591d53f",
        "colab": {
          "base_uri": "https://localhost:8080/",
          "height": 558
        }
      },
      "source": [
        "# visualize the closing history\n",
        "plt.figure(figsize=(16,8))\n",
        "plt.title('Closing Price History')\n",
        "plt.plot(df['Close'])\n",
        "plt.xlabel('Date', fontsize = 18)\n",
        "plt.ylabel('Price in US ($)', fontsize = 18)\n",
        "plt.show()"
      ],
      "execution_count": 9,
      "outputs": [
        {
          "output_type": "display_data",
          "data": {
            "image/png": "[encoded data removed]",
            "text/plain": [
              "<Figure size 1152x576 with 1 Axes>"
            ]
          },
          "metadata": {
            "tags": []
          }
        }
      ]
    },
    {
      "cell_type": "code",
      "metadata": {
        "id": "IqzHypeJUKs1",
        "outputId": "dba9abf5-c5a9-46fc-ad65-72432e617419",
        "colab": {
          "base_uri": "https://localhost:8080/",
          "height": 34
        }
      },
      "source": [
        "# create the dataframe with only the 'close price' columns\n",
        "data = df.filter(['Close'])\n",
        "# convert the dataframe in to numpy array\n",
        "dataset = data.values\n",
        "\n",
        "# get the number of rows to train the modal\n",
        "\n",
        "training_data_len = math.ceil(len(dataset)*0.8)\n",
        "training_data_len"
      ],
      "execution_count": 10,
      "outputs": [
        {
          "output_type": "execute_result",
          "data": {
            "text/plain": [
              "1603"
            ]
          },
          "metadata": {
            "tags": []
          },
          "execution_count": 10
        }
      ]
    },
    {
      "cell_type": "code",
      "metadata": {
        "id": "Kxue0gESVxbv",
        "outputId": "ac69546e-4a0c-4828-bbc9-4c1332416e16",
        "colab": {
          "base_uri": "https://localhost:8080/",
          "height": 136
        }
      },
      "source": [
        "# scale the data\n",
        "scaler =  MinMaxScaler(feature_range=(0,1))\n",
        "scaled_data = scaler.fit_transform(dataset)\n",
        "\n",
        "scaled_data"
      ],
      "execution_count": 12,
      "outputs": [
        {
          "output_type": "execute_result",
          "data": {
            "text/plain": [
              "array([[0.01316509],\n",
              "       [0.01457064],\n",
              "       [0.01748985],\n",
              "       ...,\n",
              "       [0.97658263],\n",
              "       [0.99755134],\n",
              "       [1.        ]])"
            ]
          },
          "metadata": {
            "tags": []
          },
          "execution_count": 12
        }
      ]
    },
    {
      "cell_type": "code",
      "metadata": {
        "id": "qIFsm9LVWppP"
      },
      "source": [
        "# create the training dataset\n",
        "# create the scaled training dataset\n",
        "train_data = scaled_data[0: training_data_len, :]\n",
        "# split the dataset in to x_train and y_train dataset\n",
        "x_train = []\n",
        "y_train = []\n",
        "\n",
        "for i in range(60, len(train_data)):\n",
        "  x_train.append(train_data[i-60:i , 0])\n",
        "  y_train.append(train_data[i,0])"
      ],
      "execution_count": 24,
      "outputs": []
    },
    {
      "cell_type": "code",
      "metadata": {
        "id": "WirEWtdcZa2q"
      },
      "source": [
        "# convert the x_train and y_train in to numpy array\n",
        "x_train, y_train = np.array(x_train) , np.array(y_train)\n"
      ],
      "execution_count": 25,
      "outputs": []
    },
    {
      "cell_type": "code",
      "metadata": {
        "id": "Rk8U9bO0aEOL",
        "outputId": "99aed8e2-84b6-48ed-a282-a71118a600e5",
        "colab": {
          "base_uri": "https://localhost:8080/",
          "height": 34
        }
      },
      "source": [
        "# reshape the data\n",
        "x_train = np.reshape(x_train , (x_train.shape[0] , x_train.shape[1] , 1))\n",
        "x_train.shape\n"
      ],
      "execution_count": 27,
      "outputs": [
        {
          "output_type": "execute_result",
          "data": {
            "text/plain": [
              "(1543, 60, 1)"
            ]
          },
          "metadata": {
            "tags": []
          },
          "execution_count": 27
        }
      ]
    },
    {
      "cell_type": "code",
      "metadata": {
        "id": "Bsya_1LVayrm"
      },
      "source": [
        "# build the LSTM Model\n",
        "\n",
        "model = Sequential()\n",
        "model.add(LSTM(50, return_sequences= True , input_shape=(x_train.shape[1] , 1)))\n",
        "model.add(LSTM(50, return_sequences=False))\n",
        "model.add(Dense(25))\n",
        "model.add(Dense(1))"
      ],
      "execution_count": 28,
      "outputs": []
    },
    {
      "cell_type": "code",
      "metadata": {
        "id": "Ya-cl_1_dLTB"
      },
      "source": [
        "# compile the model\n",
        "model.compile(optimizer='adam' , loss='mean_squared_error')"
      ],
      "execution_count": 29,
      "outputs": []
    },
    {
      "cell_type": "code",
      "metadata": {
        "id": "S-cynE0zdizX",
        "outputId": "a8ba0543-5c02-461e-fad1-0a377c55764d",
        "colab": {
          "base_uri": "https://localhost:8080/",
          "height": 51
        }
      },
      "source": [
        "# train the model\n",
        "model.fit(x_train, y_train, batch_size=1, epochs=1)"
      ],
      "execution_count": 31,
      "outputs": [
        {
          "output_type": "stream",
          "text": [
            "1543/1543 [==============================] - 32s 21ms/step - loss: 6.5089e-04\n"
          ],
          "name": "stdout"
        },
        {
          "output_type": "execute_result",
          "data": {
            "text/plain": [
              "<tensorflow.python.keras.callbacks.History at 0x7fcb8a19d198>"
            ]
          },
          "metadata": {
            "tags": []
          },
          "execution_count": 31
        }
      ]
    },
    {
      "cell_type": "code",
      "metadata": {
        "id": "xOLW4RqWeQ-l"
      },
      "source": [
        "# create the testing dataset\n",
        "# create the new array containing scaled values form 1543 to 2003\n",
        "test_data = scaled_data[training_data_len - 60 : , :]\n",
        "# create the dataset x_test and y_test\n",
        "x_test = []\n",
        "y_test = dataset[training_data_len:, :]\n",
        "for i in range(60, len(test_data)):\n",
        "  x_test.append(test_data[i-60 :i,0])"
      ],
      "execution_count": 34,
      "outputs": []
    },
    {
      "cell_type": "code",
      "metadata": {
        "id": "hNfiJH3tgPK7"
      },
      "source": [
        "# convert the data into numpy array\n",
        "x_test = np.array(x_test)"
      ],
      "execution_count": 35,
      "outputs": []
    },
    {
      "cell_type": "code",
      "metadata": {
        "id": "JiHcMwodgwfF"
      },
      "source": [
        "# reshape the data\n",
        "x_test = np.reshape(x_test , (x_test.shape[0] , x_test.shape[1] , 1))"
      ],
      "execution_count": 37,
      "outputs": []
    },
    {
      "cell_type": "code",
      "metadata": {
        "id": "pTagccINg-Se"
      },
      "source": [
        "# get the models predicted price and values\n",
        "predictions = model.predict(x_test)\n",
        "predictions = scaler.inverse_transform(predictions)"
      ],
      "execution_count": 38,
      "outputs": []
    },
    {
      "cell_type": "code",
      "metadata": {
        "id": "f-oXAxA-iLM8",
        "outputId": "9a14fd94-d267-4420-b776-a17558dd8dc2",
        "colab": {
          "base_uri": "https://localhost:8080/",
          "height": 34
        }
      },
      "source": [
        "# get the root mean squared error(RMSE)\n",
        "rmse = np.sqrt(np.mean( predictions - y_test)**2)\n",
        "rmse"
      ],
      "execution_count": 40,
      "outputs": [
        {
          "output_type": "execute_result",
          "data": {
            "text/plain": [
              "0.20449926376342772"
            ]
          },
          "metadata": {
            "tags": []
          },
          "execution_count": 40
        }
      ]
    },
    {
      "cell_type": "code",
      "metadata": {
        "id": "duC9IlmekqYn"
      },
      "source": [
        ""
      ],
      "execution_count": null,
      "outputs": []
    },
    {
      "cell_type": "code",
      "metadata": {
        "id": "GZn2zFAGivvp",
        "outputId": "cae54193-168d-421b-b2b9-13cd82e35b07",
        "colab": {
          "base_uri": "https://localhost:8080/",
          "height": 660
        }
      },
      "source": [
        "# plot the data\n",
        "train = data[:training_data_len]\n",
        "valid = data[training_data_len:]\n",
        "valid[\"Predictions\"] = predictions\n",
        "# visualize the model\n",
        "plt.figure(figsize=(16,8))\n",
        "plt.title('Model')\n",
        "plt.xlabel('Data' , fontsize=18)\n",
        "plt.ylabel('Closing price in USD ($)', fontsize=18)\n",
        "plt.plot(train['Close'])\n",
        "plt.plot(valid[['Close' , 'Predictions']])\n",
        "plt.legend(['Train', 'Val' , 'Predictions'], loc='lower right')\n",
        "plt.show()"
      ],
      "execution_count": 45,
      "outputs": [
        {
          "output_type": "stream",
          "text": [
            "/usr/local/lib/python3.6/dist-packages/ipykernel_launcher.py:4: SettingWithCopyWarning: \n",
            "A value is trying to be set on a copy of a slice from a DataFrame.\n",
            "Try using .loc[row_indexer,col_indexer] = value instead\n",
            "\n",
            "See the caveats in the documentation: https://pandas.pydata.org/pandas-docs/stable/user_guide/indexing.html#returning-a-view-versus-a-copy\n",
            "  after removing the cwd from sys.path.\n"
          ],
          "name": "stderr"
        },
        {
          "output_type": "display_data",
          "data": {
            "image/png": "[encoded data removed]",
            "text/plain": [
              "<Figure size 1152x576 with 1 Axes>"
            ]
          },
          "metadata": {
            "tags": []
          }
        }
      ]
    },
    {
      "cell_type": "code",
      "metadata": {
        "id": "m4_hlaCBlDP6",
        "outputId": "4b4a6db6-0d8d-4074-d290-24e6733fcd70",
        "colab": {
          "base_uri": "https://localhost:8080/",
          "height": 450
        }
      },
      "source": [
        "# show the actual and predicted prices\n",
        "valid"
      ],
      "execution_count": 46,
      "outputs": [
        {
          "output_type": "execute_result",
          "data": {
            "text/html": [
              "<div>\n",
              "<style scoped>\n",
              "    .dataframe tbody tr th:only-of-type {\n",
              "        vertical-align: middle;\n",
              "    }\n",
              "\n",
              "    .dataframe tbody tr th {\n",
              "        vertical-align: top;\n",
              "    }\n",
              "\n",
              "    .dataframe thead th {\n",
              "        text-align: right;\n",
              "    }\n",
              "</style>\n",
              "<table border=\"1\" class=\"dataframe\">\n",
              "  <thead>\n",
              "    <tr style=\"text-align: right;\">\n",
              "      <th></th>\n",
              "      <th>Close</th>\n",
              "      <th>Predictions</th>\n",
              "    </tr>\n",
              "    <tr>\n",
              "      <th>Date</th>\n",
              "      <th></th>\n",
              "      <th></th>\n",
              "    </tr>\n",
              "  </thead>\n",
              "  <tbody>\n",
              "    <tr>\n",
              "      <th>2018-05-17</th>\n",
              "      <td>46.747501</td>\n",
              "      <td>47.271843</td>\n",
              "    </tr>\n",
              "    <tr>\n",
              "      <th>2018-05-18</th>\n",
              "      <td>46.577499</td>\n",
              "      <td>47.344105</td>\n",
              "    </tr>\n",
              "    <tr>\n",
              "      <th>2018-05-21</th>\n",
              "      <td>46.907501</td>\n",
              "      <td>47.352882</td>\n",
              "    </tr>\n",
              "    <tr>\n",
              "      <th>2018-05-22</th>\n",
              "      <td>46.790001</td>\n",
              "      <td>47.371334</td>\n",
              "    </tr>\n",
              "    <tr>\n",
              "      <th>2018-05-23</th>\n",
              "      <td>47.090000</td>\n",
              "      <td>47.375736</td>\n",
              "    </tr>\n",
              "    <tr>\n",
              "      <th>...</th>\n",
              "      <td>...</td>\n",
              "      <td>...</td>\n",
              "    </tr>\n",
              "    <tr>\n",
              "      <th>2019-12-11</th>\n",
              "      <td>67.692497</td>\n",
              "      <td>66.080948</td>\n",
              "    </tr>\n",
              "    <tr>\n",
              "      <th>2019-12-12</th>\n",
              "      <td>67.864998</td>\n",
              "      <td>66.295685</td>\n",
              "    </tr>\n",
              "    <tr>\n",
              "      <th>2019-12-13</th>\n",
              "      <td>68.787498</td>\n",
              "      <td>66.523232</td>\n",
              "    </tr>\n",
              "    <tr>\n",
              "      <th>2019-12-16</th>\n",
              "      <td>69.964996</td>\n",
              "      <td>66.841240</td>\n",
              "    </tr>\n",
              "    <tr>\n",
              "      <th>2019-12-17</th>\n",
              "      <td>70.102501</td>\n",
              "      <td>67.295929</td>\n",
              "    </tr>\n",
              "  </tbody>\n",
              "</table>\n",
              "<p>400 rows × 2 columns</p>\n",
              "</div>"
            ],
            "text/plain": [
              "                Close  Predictions\n",
              "Date                              \n",
              "2018-05-17  46.747501    47.271843\n",
              "2018-05-18  46.577499    47.344105\n",
              "2018-05-21  46.907501    47.352882\n",
              "2018-05-22  46.790001    47.371334\n",
              "2018-05-23  47.090000    47.375736\n",
              "...               ...          ...\n",
              "2019-12-11  67.692497    66.080948\n",
              "2019-12-12  67.864998    66.295685\n",
              "2019-12-13  68.787498    66.523232\n",
              "2019-12-16  69.964996    66.841240\n",
              "2019-12-17  70.102501    67.295929\n",
              "\n",
              "[400 rows x 2 columns]"
            ]
          },
          "metadata": {
            "tags": []
          },
          "execution_count": 46
        }
      ]
    },
    {
      "cell_type": "code",
      "metadata": {
        "id": "BkQ0qFrnlwwf",
        "outputId": "ae6c3a98-8fa2-46f5-a515-e29f9776a835",
        "colab": {
          "base_uri": "https://localhost:8080/",
          "height": 34
        }
      },
      "source": [
        "# get the quote\n",
        "apple_quote = web.DataReader('AAPL' , data_source='yahoo' , start = '2012-01-01', end='2012-12-17')\n",
        "# create the new dataframe \n",
        "new_df = apple_quote.filter(['Close'])\n",
        "# get the last 60 days price and convert dataframe in to the array\n",
        "\n",
        "last_60_days = new_df[-60:].values\n",
        "# scale the data\n",
        "last_60_days_scaled = scaler.transform(last_60_days)\n",
        "# create an empty list\n",
        "x_test = []\n",
        "# get the last 60 days data\n",
        "x_test.append(last_60_days_scaled)\n",
        "# convert the scaled data into numpy array\n",
        "x_test = np.array(x_test)\n",
        "# reshape the data\n",
        "x_test = np.reshape(x_test, (x_test.shape[0] , x_test.shape[1],1))\n",
        "# get the predicted price\n",
        "pred_price = model.predict(x_test)\n",
        "# undo the scalling\n",
        "pred_price = scaler.inverse_transform(pred_price)\n",
        "print(pred_price)"
      ],
      "execution_count": 49,
      "outputs": [
        {
          "output_type": "stream",
          "text": [
            "[[19.352188]]\n"
          ],
          "name": "stdout"
        }
      ]
    },
    {
      "cell_type": "code",
      "metadata": {
        "id": "AFLK83RAoMVo",
        "outputId": "68056d89-ea06-4897-c390-961135415e68",
        "colab": {
          "base_uri": "https://localhost:8080/",
          "height": 68
        }
      },
      "source": [
        "apple_quote2 = web.DataReader('AAPL' , data_source='yahoo' , start = '2012-12-18', end='2012-12-18')\n",
        "print(apple_quote2['Close'])"
      ],
      "execution_count": 50,
      "outputs": [
        {
          "output_type": "stream",
          "text": [
            "Date\n",
            "2012-12-18    19.067858\n",
            "Name: Close, dtype: float64\n"
          ],
          "name": "stdout"
        }
      ]
    },
    {
      "cell_type": "code",
      "metadata": {
        "id": "dEgENx8tozuu"
      },
      "source": [
        ""
      ],
      "execution_count": null,
      "outputs": []
    }
  ]
}